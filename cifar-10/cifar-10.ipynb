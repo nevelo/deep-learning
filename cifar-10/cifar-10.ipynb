{
 "cells": [
  {
   "cell_type": "code",
   "execution_count": 80,
   "metadata": {
    "collapsed": false
   },
   "outputs": [],
   "source": [
    "import matplotlib.pyplot as plt\n",
    "%matplotlib inline\n",
    "\n",
    "import tensorflow as tf\n",
    "import numpy as np\n",
    "import cPickle\n",
    "\n",
    "from tensorflow.contrib import learn\n",
    "from tensorflow.contrib.learn.python.learn.estimators import model_fn as model_fn_lib\n",
    "\n",
    "tf.logging.set_verbosity(tf.logging.INFO)\n",
    "\n",
    "num_classes=10\n",
    "dropout_rate=0.4\n",
    "learning_rate=0.001\n",
    "minibatch_size=100\n",
    "\n",
    "def unpickle(file_name):\n",
    "    with open(file_name, 'rb') as fo:\n",
    "        data = cPickle.load(fo)\n",
    "    return data\n",
    "\n",
    "def cnn_model(features, labels, mode):\n",
    "    input_data = tf.reshape(features, [-1, 3, 32, 32])\n",
    "    input_layer = tf.to_float(input_data)\n",
    "    \n",
    "    conv1_layer = tf.layers.conv2d(\n",
    "        inputs=input_layer,\n",
    "        filters=40,\n",
    "        kernel_size=(5,5),\n",
    "        strides=(2,2),\n",
    "        padding='same',\n",
    "        data_format='channels_first',\n",
    "        activation=tf.nn.relu)\n",
    "    \n",
    "    pool1_layer = tf.layers.max_pooling2d(\n",
    "        inputs=conv1_layer,\n",
    "        pool_size=(2,2),\n",
    "        strides=(2,2),\n",
    "        padding='same',\n",
    "        data_format='channels_first')\n",
    "    \n",
    "    conv2_layer = tf.layers.conv2d(\n",
    "        inputs=pool1_layer,\n",
    "        filters=80,\n",
    "        kernel_size=(3,3),\n",
    "        strides=(1,1),\n",
    "        padding='same',\n",
    "        data_format='channels_first',\n",
    "        activation=tf.nn.relu)\n",
    "    \n",
    "    pool2_layer = tf.layers.max_pooling2d(\n",
    "        inputs=conv2_layer,\n",
    "        pool_size=(2,2),\n",
    "        strides=(2,2),\n",
    "        padding='same',\n",
    "        data_format='channels_first')\n",
    "    \n",
    "    pool2_flat = tf.reshape(pool2_layer, [-1, 80*4*4])\n",
    "    dense1 = tf.layers.dense(pool2_flat, units=400, activation=tf.nn.relu)\n",
    "    dropout = tf.layers.dropout(\n",
    "        inputs=dense1, \n",
    "        rate=dropout_rate, \n",
    "        training=mode==learn.ModeKeys.TRAIN)\n",
    "    \n",
    "    class_prediction = tf.layers.dense(inputs=dropout, units=num_classes)\n",
    "    \n",
    "    training_op = None\n",
    "    loss = None\n",
    "    if mode != learn.ModeKeys.INFER: # ground-truth is unknown if we are inferring with new examples\n",
    "        ground_truth = tf.one_hot(indices=labels, depth=num_classes)\n",
    "#        print(class_prediction)\n",
    "        ground_truth = tf.reshape(ground_truth, [-1, 10])\n",
    "#        print(ground_truth)\n",
    "        loss = tf.losses.softmax_cross_entropy(onehot_labels=ground_truth,\n",
    "                                       logits=class_prediction)\n",
    "    \n",
    "    if mode == learn.ModeKeys.TRAIN:\n",
    "        training_op = tf.contrib.layers.optimize_loss(\n",
    "            loss=loss, \n",
    "            global_step=tf.contrib.framework.get_global_step(),\n",
    "            learning_rate=learning_rate,\n",
    "            optimizer=\"SGD\")\n",
    "    \n",
    "    predictions = {'classes': tf.argmax(input=class_prediction, axis=1), # the prediction\n",
    "                   'probabilties': tf.nn.softmax(class_prediction, name='softmax') }# predicted probabilities\n",
    "    \n",
    "    return model_fn_lib.ModelFnOps(\n",
    "        mode=mode, predictions=predictions, loss=loss, train_op=training_op)"
   ]
  },
  {
   "cell_type": "code",
   "execution_count": 68,
   "metadata": {
    "collapsed": false
   },
   "outputs": [],
   "source": [
    "data = unpickle('dataset/cifar-10-batches-py/data_batch_1')"
   ]
  },
  {
   "cell_type": "code",
   "execution_count": 78,
   "metadata": {
    "collapsed": false
   },
   "outputs": [],
   "source": [
    "test_index = 5\n",
    "image = np.reshape(data['data'][test_index:test_index+minibatch_size], [-1, 3, 1024])\n",
    "label = data['labels'][test_index:test_index+minibatch_size]\n",
    "# image_reordered = []\n",
    "#for i in range(1024):\n",
    "#    image_reordered.append([image[0][i], image[1][i], image[2][i]])\n",
    "#\n",
    "#image_reordered = np.reshape(image_reordered, [32, 32, 3])\n",
    "#plt.imshow(image_reordered, shape=(32,32), interpolation='bicubic')\n",
    "#print label"
   ]
  },
  {
   "cell_type": "code",
   "execution_count": 81,
   "metadata": {
    "collapsed": false
   },
   "outputs": [
    {
     "name": "stdout",
     "output_type": "stream",
     "text": [
      "Tensor(\"dense_48/BiasAdd:0\", shape=(100, 10), dtype=float32)\n",
      "Tensor(\"one_hot_18:0\", shape=(100, 10), dtype=float32)\n"
     ]
    },
    {
     "data": {
      "text/plain": [
       "ModelFnOps(predictions={'probabilties': <tf.Tensor 'softmax_5:0' shape=(100, 10) dtype=float32>, 'classes': <tf.Tensor 'ArgMax_7:0' shape=(100,) dtype=int64>}, loss=<tf.Tensor 'softmax_cross_entropy_loss_11/value:0' shape=() dtype=float32>, train_op=<tf.Operation 'OptimizeLoss_7/control_dependency' type=Identity>, eval_metric_ops={}, output_alternatives=None, training_chief_hooks=[], training_hooks=[], training_scaffold=None)"
      ]
     },
     "execution_count": 81,
     "metadata": {},
     "output_type": "execute_result"
    }
   ],
   "source": [
    "cnn_model(image, label, mode=learn.ModeKeys.TRAIN)"
   ]
  },
  {
   "cell_type": "code",
   "execution_count": null,
   "metadata": {
    "collapsed": false
   },
   "outputs": [],
   "source": []
  },
  {
   "cell_type": "code",
   "execution_count": null,
   "metadata": {
    "collapsed": true
   },
   "outputs": [],
   "source": []
  }
 ],
 "metadata": {
  "kernelspec": {
   "display_name": "Python 2",
   "language": "python",
   "name": "python2"
  },
  "language_info": {
   "codemirror_mode": {
    "name": "ipython",
    "version": 2
   },
   "file_extension": ".py",
   "mimetype": "text/x-python",
   "name": "python",
   "nbconvert_exporter": "python",
   "pygments_lexer": "ipython2",
   "version": "2.7.12"
  }
 },
 "nbformat": 4,
 "nbformat_minor": 2
}
